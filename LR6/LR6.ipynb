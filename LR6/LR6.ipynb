{
 "cells": [
  {
   "cell_type": "code",
   "execution_count": 24,
   "id": "c11af003-896d-4794-bbf0-58a8754ddc27",
   "metadata": {},
   "outputs": [],
   "source": [
    "from selenium import webdriver\n",
    "from selenium.webdriver.common.by import By\n",
    "from selenium.webdriver.common.keys import Keys\n",
    "from selenium.webdriver.firefox.service import Service\n",
    "from selenium.webdriver.support.ui import WebDriverWait\n",
    "from selenium.webdriver.support import expected_conditions as EC\n",
    "from pymongo import MongoClient\n",
    "import re\n",
    "import time\n",
    "import os"
   ]
  },
  {
   "cell_type": "code",
   "execution_count": 25,
   "id": "4837a67e-6d02-4832-9b51-488bc2f6acef",
   "metadata": {},
   "outputs": [],
   "source": [
    "# Настройка WebDriver\n",
    "options = webdriver.FirefoxOptions()\n",
    "driver = webdriver.Firefox(options=options)\n",
    "\n",
    "# Подключение к MongoDB\n",
    "client = MongoClient(\"mongodb://localhost:27017/PSU\")\n",
    "db = client[\"JuralDetails\"]\n",
    "collection = db[\"emails\"]"
   ]
  },
  {
   "cell_type": "code",
   "execution_count": 26,
   "id": "bbb3f7c1-e7b1-40a0-a52e-af6852e97287",
   "metadata": {},
   "outputs": [],
   "source": [
    "# Переход на страницу почты\n",
    "driver.get(\"https://mail.psu.ru/\")\n",
    "\n",
    "# загрузка страницы\n",
    "time.sleep(5)\n",
    "\n",
    "email_input = driver.find_element(By.NAME, \"Username\")\n",
    "email_input.send_keys(\"vaechh\")\n",
    "\n",
    "password_input = driver.find_element(By.NAME, \"Password\")\n",
    "password_input.send_keys(\"JohnVae322\")\n",
    "\n",
    "login_button = WebDriverWait(driver, 3).until(\n",
    "    EC.element_to_be_clickable((By.XPATH, \"//input[@type='submit' and @name='login' and @value='Войти']\"))\n",
    ")\n",
    "login_button.click()\n",
    "\n",
    "time.sleep(5)  # Подождите, чтобы завершился вход"
   ]
  },
  {
   "cell_type": "code",
   "execution_count": 32,
   "id": "6f556c89-56cb-414e-88e6-b5a7899b5864",
   "metadata": {},
   "outputs": [
    {
     "name": "stdout",
     "output_type": "stream",
     "text": [
      "Открываем письмо 1\n",
      "Ivan, people are recommending your work \n",
      "Открываем письмо 2\n",
      "Ivan, you have new reads \n",
      "Открываем письмо 3\n",
      "Ivan, people are reading your work \n",
      "Открываем письмо 4\n",
      "Ivan, you have new reads \n",
      "Открываем письмо 5\n",
      "Congratulations Ivan, you achieved top stats in November \n"
     ]
    }
   ],
   "source": [
    "for i in range(5):\n",
    "    print(f\"Открываем письмо {i + 1}\")\n",
    "    # получаем список всех писем и клюкаем по i-тому \n",
    "    emails = driver.find_elements(By.XPATH, \"//tr[@class='borderbottom']\")\n",
    "    email = emails[i]\n",
    "    td_with_second_link = email.find_element(By.XPATH, \".//td[position() = last()-2]//a\")\n",
    "    td_with_second_link.click()\n",
    "    \n",
    "    time.sleep(5)\n",
    "    \n",
    "    # Получаем заголовок письма\n",
    "    subject_text = driver.find_element(By.CSS_SELECTOR, \"h2.msgSubject.padRight\").text\n",
    "    print(subject_text)\n",
    "    \n",
    "    # Получаем метаданные (от кого, дата, кому)\n",
    "    msg_headers = driver.find_elements(By.CSS_SELECTOR, \"div.msgHeaders p.msgHeader\")\n",
    "    \n",
    "    # Регулярные выражения для извлечения информации\n",
    "    from_pattern = r\"От Кого:\\s*(.*)\"\n",
    "    date_pattern = r\"Дата:\\s*(.*)\"\n",
    "    \n",
    "    # Извлекаем данные с помощью регулярных выражений\n",
    "    from_match = re.search(from_pattern, msg_headers[0].text)\n",
    "    date_match = re.search(date_pattern, msg_headers[1].text)\n",
    "    \n",
    "    # Если регулярное выражение находит совпадение, извлекаем данные\n",
    "    from_email = from_match.group(1) if from_match else None\n",
    "    date_sent = date_match.group(1) if date_match else None\n",
    "\n",
    "    try:\n",
    "        # Найдем iframe, в котором содержится письмо\n",
    "        iframe = driver.find_element(By.CSS_SELECTOR, \"div.msgBody iframe\")\n",
    "    \n",
    "        driver.switch_to.frame(iframe)\n",
    "        iframe_html = driver.page_source\n",
    "        \n",
    "        email_data = {\n",
    "            \"subject\": subject_text,\n",
    "            \"from\": from_email,\n",
    "            \"date\": date_sent,\n",
    "            \"html_content\": iframe_html  # Сохраняем HTML как строку\n",
    "        }\n",
    "        \n",
    "        collection.insert_one(email_data)\n",
    "\n",
    "    except Exception as e:\n",
    "        print(f\"Ошибка при извлечении содержимого письма: {e}\")\n",
    "\n",
    "    finally:\n",
    "        driver.switch_to.default_content()\n",
    "\n",
    "    driver.back()\n",
    "    \n",
    "    time.sleep(5)"
   ]
  },
  {
   "cell_type": "code",
   "execution_count": null,
   "id": "3afe32b7-ec9d-4165-83fc-d5a4650e4977",
   "metadata": {},
   "outputs": [],
   "source": []
  }
 ],
 "metadata": {
  "kernelspec": {
   "display_name": "Python 3 (ipykernel)",
   "language": "python",
   "name": "python3"
  },
  "language_info": {
   "codemirror_mode": {
    "name": "ipython",
    "version": 3
   },
   "file_extension": ".py",
   "mimetype": "text/x-python",
   "name": "python",
   "nbconvert_exporter": "python",
   "pygments_lexer": "ipython3",
   "version": "3.13.0"
  }
 },
 "nbformat": 4,
 "nbformat_minor": 5
}
