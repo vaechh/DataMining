{
 "cells": [
  {
   "cell_type": "code",
   "execution_count": 158,
   "id": "708c33a5-40fe-474f-a474-335095e30253",
   "metadata": {},
   "outputs": [],
   "source": [
    "from pymongo import MongoClient\n",
    "import requests\n",
    "from bs4 import BeautifulSoup\n",
    "import logging"
   ]
  },
  {
   "cell_type": "code",
   "execution_count": 159,
   "id": "51709b80-aaf6-4def-a337-28d3e09ae4ab",
   "metadata": {},
   "outputs": [],
   "source": [
    "class JuralParser:\n",
    "    \n",
    "    def __init__(self, mongoUrl):\n",
    "        self.mongoUrl = mongoUrl\n",
    "        self.databaseName=\"JuralDetails\"\n",
    "        self.collectionName=\"AllDetails\"\n",
    "\n",
    "\n",
    "    # Подключение к БД\n",
    "    def connect_db(self):\n",
    "        client = MongoClient(mongoUrl)\n",
    "        db = client[databaseName]\n",
    "        self.collection = db[collectionName]\n",
    "        collection.create_index(\"title\", unique=True)\n",
    "        return client.admin.command('ping')\n",
    "\n",
    "    \n",
    "    # Парсит переданную страницу и добавляет в БД уникальные записи\n",
    "    def parse_data(self, url):\n",
    "        response = requests.get(url)\n",
    "        soup = BeautifulSoup(response.content, 'html.parser')\n",
    "        items = soup.find_all('div', class_='products-list__item')\n",
    "        new_entries = 0\n",
    "        \n",
    "        for item in items:\n",
    "            title = item.find('div', class_='product-card__name').find('a').text.strip() if item.find('div', class_='product-card__name') else \"Нет названия\"\n",
    "            article = item.find('div', class_='product-card__info').find('span', itemprop='model').text.strip() if item.find('div', class_='product-card__info') else \"Нет артикула\"\n",
    "            manufacturer = item.find('div', class_='product-card__info').find('span', itemprop='brand').text.strip() if item.find('div', class_='product-card__info') else \"Нет производителя\"\n",
    "            price = item.find('div', class_='product-card__prices').find('meta', itemprop='price')['content'] if item.find('div', class_='product-card__prices') and item.find('meta', itemprop='price') else \"0\"\n",
    "            \n",
    "            product_data = {\n",
    "            \"title\": title,\n",
    "            \"article\": article,\n",
    "            \"manufacturer\": manufacturer,\n",
    "            \"price\": int(price.replace(\" \", \"\"))\n",
    "            }\n",
    "        \n",
    "            try:\n",
    "                self.collection.insert_one(product_data)\n",
    "                new_entries = new_entries + 1\n",
    "            except:\n",
    "                logging.info(f\"{title} уже существует\")\n",
    "\n",
    "        return new_entries\n",
    "        \n",
    "    \n",
    "    # Поиск деталей по цене\n",
    "    def get_details_with_greater_price(self, price:str = 0):\n",
    "        query = {\"price\" : {\"$gt\": price}}\n",
    "        documents = self.collection.find(query)\n",
    "        return documents\n",
    "\n",
    "    def print_data(self, data):\n",
    "        for d in data:\n",
    "            print(d)"
   ]
  },
  {
   "cell_type": "code",
   "execution_count": 160,
   "id": "88a11178-22ee-4b22-8bc3-3ae949e50ce1",
   "metadata": {},
   "outputs": [],
   "source": [
    "source_url_1 = \"https://agroteh26.ru/catalog/20-zapchasti_dlya_gruzovoj_tehniki/3-katalog_zapchastej_ural/elektrooborudovanie-fqsdg/\"\n",
    "source_url_2 = \"https://agroteh26.ru/catalog/19-zapchasti_dlya_selhoztehniki/dieci/\""
   ]
  },
  {
   "cell_type": "code",
   "execution_count": 161,
   "id": "d6c5aaac-e02d-49fe-84c9-fc3ca8281a7a",
   "metadata": {},
   "outputs": [],
   "source": [
    "parser = JuralParser(mongoUrl=\"mongodb://localhost:27017/PSU\")"
   ]
  },
  {
   "cell_type": "code",
   "execution_count": 162,
   "id": "b153e117-4c26-4632-877f-5fae77b9603d",
   "metadata": {},
   "outputs": [
    {
     "data": {
      "text/plain": [
       "{'ok': 1.0}"
      ]
     },
     "execution_count": 162,
     "metadata": {},
     "output_type": "execute_result"
    }
   ],
   "source": [
    "parser.connect_db()"
   ]
  },
  {
   "cell_type": "code",
   "execution_count": 164,
   "id": "159e17cf-cb9e-42d3-b7af-6cfe5631dd59",
   "metadata": {},
   "outputs": [
    {
     "data": {
      "text/plain": [
       "0"
      ]
     },
     "execution_count": 164,
     "metadata": {},
     "output_type": "execute_result"
    }
   ],
   "source": [
    "parser.parse_data(source_url_1)"
   ]
  },
  {
   "cell_type": "code",
   "execution_count": 165,
   "id": "6f89d589-f952-440c-bc92-be9d28f77d8b",
   "metadata": {},
   "outputs": [],
   "source": [
    "price_to_find = 8600"
   ]
  },
  {
   "cell_type": "code",
   "execution_count": 166,
   "id": "c98eeaa7-6b46-48e7-869b-4f3825906ab8",
   "metadata": {},
   "outputs": [
    {
     "name": "stdout",
     "output_type": "stream",
     "text": [
      "{'_id': ObjectId('673cd95de0e8f8852f26afd3'), 'title': 'Главный тормозной цилиндр УРАЛ 4320-3510011 (з.д.)(без бачка)', 'article': '4320-3510011', 'manufacturer': 'УРАЛ', 'price': 10500}\n",
      "{'_id': ObjectId('673cd95de0e8f8852f26afd4'), 'title': 'Главный тормозной цилиндр УРАЛ 5557-3510011( и под АБС)(без бачка)', 'article': '5557-3510011', 'manufacturer': 'УРАЛ', 'price': 13300}\n"
     ]
    }
   ],
   "source": [
    "docs = parser.get_details_with_greater_price(price_to_find)\n",
    "parser.print_data(data=docs)"
   ]
  },
  {
   "cell_type": "code",
   "execution_count": 167,
   "id": "452a9c51-2c50-4905-8202-9052d58a8110",
   "metadata": {},
   "outputs": [
    {
     "data": {
      "text/plain": [
       "20"
      ]
     },
     "execution_count": 167,
     "metadata": {},
     "output_type": "execute_result"
    }
   ],
   "source": [
    "parser.parse_data(source_url_2)"
   ]
  },
  {
   "cell_type": "code",
   "execution_count": 168,
   "id": "f2ff1b97-9d3b-4a9f-b07f-dd045fba8bdc",
   "metadata": {},
   "outputs": [
    {
     "name": "stdout",
     "output_type": "stream",
     "text": [
      "{'_id': ObjectId('673cd95de0e8f8852f26afd3'), 'title': 'Главный тормозной цилиндр УРАЛ 4320-3510011 (з.д.)(без бачка)', 'article': '4320-3510011', 'manufacturer': 'УРАЛ', 'price': 10500}\n",
      "{'_id': ObjectId('673cd95de0e8f8852f26afd4'), 'title': 'Главный тормозной цилиндр УРАЛ 5557-3510011( и под АБС)(без бачка)', 'article': '5557-3510011', 'manufacturer': 'УРАЛ', 'price': 13300}\n",
      "{'_id': ObjectId('673cd963e0e8f8852f26aff7'), 'title': 'Кронштейн CAR0001826A-F (DIECI)', 'article': 'CAR0001826A-F', 'manufacturer': 'DIECI', 'price': 98900}\n",
      "{'_id': ObjectId('673cd963e0e8f8852f26aff9'), 'title': 'Картридж воздушного фильтра первичный CP24420 на Dieci AGRI FARMER', 'article': 'CP24420', 'manufacturer': 'MANN', 'price': 9000}\n",
      "{'_id': ObjectId('673cd963e0e8f8852f26affd'), 'title': 'Пластина CUS0000054 (DIECI)', 'article': 'CUS0000054', 'manufacturer': 'DIECI', 'price': 16800}\n",
      "{'_id': ObjectId('673cd963e0e8f8852f26afff'), 'title': 'Цепь BVS0861 (DIECI)', 'article': 'BVS0861', 'manufacturer': 'DIECI', 'price': 52100}\n",
      "{'_id': ObjectId('673cd963e0e8f8852f26b003'), 'title': 'Ось BRI6076N (DIECI)', 'article': 'BRI6076N', 'manufacturer': 'DIECI', 'price': 62200}\n",
      "{'_id': ObjectId('673cd963e0e8f8852f26b009'), 'title': 'Палец стопорный BRI6055 (DIECI)', 'article': 'BRI6055', 'manufacturer': 'DIECI', 'price': 26300}\n"
     ]
    }
   ],
   "source": [
    "docs = parser.get_details_with_greater_price(price_to_find)\n",
    "parser.print_data(data=docs)"
   ]
  }
 ],
 "metadata": {
  "kernelspec": {
   "display_name": "Python 3 (ipykernel)",
   "language": "python",
   "name": "python3"
  },
  "language_info": {
   "codemirror_mode": {
    "name": "ipython",
    "version": 3
   },
   "file_extension": ".py",
   "mimetype": "text/x-python",
   "name": "python",
   "nbconvert_exporter": "python",
   "pygments_lexer": "ipython3",
   "version": "3.13.0"
  }
 },
 "nbformat": 4,
 "nbformat_minor": 5
}
