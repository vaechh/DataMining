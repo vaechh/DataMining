{
  "nbformat": 4,
  "nbformat_minor": 0,
  "metadata": {
    "colab": {
      "provenance": []
    },
    "kernelspec": {
      "name": "python3",
      "display_name": "Python 3"
    },
    "language_info": {
      "name": "python"
    }
  },
  "cells": [
    {
      "cell_type": "markdown",
      "source": [
        "###GET GiHub Repos"
      ],
      "metadata": {
        "id": "bpeuFNbRy9Q8"
      }
    },
    {
      "cell_type": "code",
      "execution_count": 2,
      "metadata": {
        "id": "ZYugEFd1u5r3"
      },
      "outputs": [],
      "source": [
        "import requests\n",
        "import json"
      ]
    },
    {
      "cell_type": "code",
      "source": [
        "username = 'vaechh'"
      ],
      "metadata": {
        "id": "8_u_U6JWwIFt"
      },
      "execution_count": 3,
      "outputs": []
    },
    {
      "cell_type": "code",
      "source": [
        "url = f'https://api.github.com/users/{username}/repos'"
      ],
      "metadata": {
        "id": "ADJacAltyRuR"
      },
      "execution_count": 4,
      "outputs": []
    },
    {
      "cell_type": "code",
      "source": [
        "response = requests.get(url)"
      ],
      "metadata": {
        "id": "_m7yKcrDyVdH"
      },
      "execution_count": 5,
      "outputs": []
    },
    {
      "cell_type": "code",
      "source": [
        "if response.status_code == 200:\n",
        "  repos_json = response.json()\n",
        "  with open('repos.json', 'w') as file:\n",
        "        json.dump(repos_json, file, indent=4)\n",
        "        print(\"Репозитории успешно сохранены в файле 'repos.json'.\")\n",
        "else:\n",
        "    print(f\"Произошла ошибка при получении данных. Код ошибки: {response.status_code}\")"
      ],
      "metadata": {
        "colab": {
          "base_uri": "https://localhost:8080/"
        },
        "id": "PDg1w-8xycQn",
        "outputId": "23635f8c-aa9a-4d99-e9ff-0b30081e44bf"
      },
      "execution_count": 6,
      "outputs": [
        {
          "output_type": "stream",
          "name": "stdout",
          "text": [
            "Репозитории успешно сохранены в файле 'repos.json'.\n"
          ]
        }
      ]
    },
    {
      "cell_type": "markdown",
      "source": [
        "###GET VK Communities"
      ],
      "metadata": {
        "id": "HqWQ-ZA1zGpR"
      }
    },
    {
      "cell_type": "code",
      "source": [
        "access_token = 'token'"
      ],
      "metadata": {
        "id": "YOPuCDaHzSuZ"
      },
      "execution_count": null,
      "outputs": []
    },
    {
      "cell_type": "code",
      "source": [
        "user_id = 'vaech'"
      ],
      "metadata": {
        "id": "kqgE8ajM0BCX"
      },
      "execution_count": null,
      "outputs": []
    },
    {
      "cell_type": "code",
      "source": [
        "url = f'https://api.vk.com/method/groups.get?user_id={user_id}&access_token={access_token}&v=5.131'"
      ],
      "metadata": {
        "id": "U0-A5x_m0FPY"
      },
      "execution_count": null,
      "outputs": []
    },
    {
      "cell_type": "code",
      "source": [
        "response = requests.get(url)"
      ],
      "metadata": {
        "id": "7DciDh3b0HLD"
      },
      "execution_count": null,
      "outputs": []
    },
    {
      "cell_type": "code",
      "source": [
        "if response.status_code == 200:\n",
        "  groups_data = response.json()\n",
        "  with open('groups.json', 'w', encoding='utf-8') as file:\n",
        "        json.dump(groups_data, file, ensure_ascii=False, indent=4)\n",
        "        print(\"Сообщества пользователя успешно сохранены в файле 'groups.json'.\")\n",
        "else:\n",
        "    print(f\"Произошла ошибка при получении данных. Код ошибки: {response.status_code}\")"
      ],
      "metadata": {
        "colab": {
          "base_uri": "https://localhost:8080/"
        },
        "id": "krMF92zu0I_f",
        "outputId": "68e46d2e-5f1e-4a76-eb08-2eb98ebdbf5b"
      },
      "execution_count": null,
      "outputs": [
        {
          "output_type": "stream",
          "name": "stdout",
          "text": [
            "Сообщества пользователя успешно сохранены в файле 'groups.json'.\n"
          ]
        }
      ]
    },
    {
      "cell_type": "code",
      "source": [
        "responce = requests.post('https://id.vk.com/oauth2/auth ');"
      ],
      "metadata": {
        "id": "qa34Wd7_2ljs"
      },
      "execution_count": null,
      "outputs": []
    }
  ]
}