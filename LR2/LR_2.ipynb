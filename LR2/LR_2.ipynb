{
  "nbformat": 4,
  "nbformat_minor": 0,
  "metadata": {
    "colab": {
      "provenance": []
    },
    "kernelspec": {
      "name": "python3",
      "display_name": "Python 3"
    },
    "language_info": {
      "name": "python"
    }
  },
  "cells": [
    {
      "cell_type": "markdown",
      "source": [
        "# XPath"
      ],
      "metadata": {
        "id": "wInjsVn8Mt6g"
      }
    },
    {
      "cell_type": "code",
      "source": [
        "import requests\n",
        "from lxml import html\n",
        "from bs4 import BeautifulSoup"
      ],
      "metadata": {
        "id": "5Ls8mzij_QTi"
      },
      "execution_count": 76,
      "outputs": []
    },
    {
      "cell_type": "code",
      "execution_count": 47,
      "metadata": {
        "id": "yGkQHUjQ-hHd"
      },
      "outputs": [],
      "source": [
        "url=\"https://agroteh26.ru/catalog/20-zapchasti_dlya_gruzovoj_tehniki/3-katalog_zapchastej_ural/elektrooborudovanie-fqsdg/\""
      ]
    },
    {
      "cell_type": "code",
      "source": [
        "title_query = './/div[@class=\"product-card__name\"]/a'\n",
        "article_query = './/div[@class=\"product-card__info\"]//span[@itemprop=\"model\"]'\n",
        "manufacturer_query = './/div[@class=\"product-card__info\"]//span[@itemprop=\"brand\"]'\n",
        "price_query = './/div[@class=\"product-card__prices\"]/meta[@itemprop=\"price\"]/@content'"
      ],
      "metadata": {
        "id": "AXu5KTxHIYlV"
      },
      "execution_count": 61,
      "outputs": []
    },
    {
      "cell_type": "code",
      "source": [
        "response = requests.get(url)"
      ],
      "metadata": {
        "id": "CEksR9wb_GD3"
      },
      "execution_count": 62,
      "outputs": []
    },
    {
      "cell_type": "code",
      "source": [
        "tree = html.fromstring(response.content)\n",
        "items = tree.xpath('//div[@class=\"products-list__item\"]')"
      ],
      "metadata": {
        "id": "Ez9Ts--b_dZW"
      },
      "execution_count": 63,
      "outputs": []
    },
    {
      "cell_type": "code",
      "source": [
        "for item in items:\n",
        "  title = item.xpath(title_query) if title else \"Нет названия\"\n",
        "  article = item.xpath(article_query) if article else \"Нет артикула\"\n",
        "  manufacturer = item.xpath(manufacturer_query) if manufacturer else \"Нет производителя\"\n",
        "  price = item.xpath(price_query)\n",
        "  price_value = price[0].strip() if price else \"Нет цены\"\n",
        "  print(f\"Деталь: {title[0].text_content()} Артикул:{article[0].text_content()} Изготовитель: {manufacturer[0].text_content()} Цена: {price_value}\")"
      ],
      "metadata": {
        "colab": {
          "base_uri": "https://localhost:8080/"
        },
        "id": "pTsfOHw5Bhbf",
        "outputId": "06c2c44d-0bf1-462b-d642-d5347eb86d8b"
      },
      "execution_count": 75,
      "outputs": [
        {
          "output_type": "stream",
          "name": "stdout",
          "text": [
            "Деталь: Барабан тормозной УРАЛ ручника Урал 375-3507050-В Артикул:375-3507050-В Изготовитель: УРАЛ Цена: 8 800\n",
            "Деталь: Бачок ГТЦ УРАЛ 375-3505082-Б2 в сб. Артикул:375-3505082-Б2 Изготовитель: УРАЛ Цена: 1080\n",
            "Деталь: Втулка разжимного кулака УРАЛ 63685  3502396Е260 Артикул:3502396Е260 Изготовитель: УРАЛ Цена: 2400\n",
            "Деталь: Болт М10х1,25-6gх20 УРАЛ 201674П29 крепления клапана электромагнитного Артикул:201674-П29 Изготовитель: КИТАЙ Цена: 130\n",
            "Деталь: Главный тормозной цилиндр УРАЛ 4320-3510011 (з.д.)(без бачка) Артикул:4320-3510011 Изготовитель: УРАЛ Цена: 10 500\n",
            "Деталь: Главный тормозной цилиндр УРАЛ 5557-3510011( и под АБС)(без бачка) Артикул:5557-3510011 Изготовитель: УРАЛ Цена: 13 300\n",
            "Деталь: Клапан перепускной ГТЦ 375-3501048-Б Артикул:375-3501048-Б Изготовитель: УРАЛ Цена: 94\n",
            "Деталь: Клапан УРАЛ главного тормозного цилиндра 375-3505020 Артикул:375-3505020 Изготовитель: УРАЛ Цена: 960\n",
            "Деталь: Колодка тормозная УРАЛ 375-3501090 Артикул:16375-3501090 Изготовитель: АККОР Цена: 4000\n",
            "Деталь: Колодка тормозная УРАЛ 55571Х-3501090 (под одинарный цилиндр) Н/О Артикул:1655571х-3501090 Изготовитель: АККОР Цена: 3800\n",
            "Деталь: Кронштейн УРАЛ 375-3508032-10 Артикул:375-3508032-10 Изготовитель: УРАЛ Цена: 1290\n",
            "Деталь: Накладка тормозная УРАЛ 375-3501105-Д Н-120 мм Артикул:375-3501105-Д Изготовитель: ТРАНСМАШ Цена: 700\n",
            "Деталь: Накладка тормозная УРАЛ 63685 задняя/средняя/передняя 3502392А369 Н-180 мм Артикул:3502392А369-1 Изготовитель: КИТАЙ Цена: 570\n",
            "Деталь: Накладка тормозная УРАЛ 63685/ЗУБРЕНОК (4380 з.м. китайск. мост) зад/сред/пер 3502392А369 Н-150 мм Артикул:3502392А369 Изготовитель: КИТАЙ Цена: 770\n",
            "Деталь: Накладка тормозная УРАЛ ручника 4320 375-3507020-В Н-70 мм Артикул:375-3507020-03 Изготовитель: КИТАЙ Цена: 570\n",
            "Деталь: Ось колодки  УРАЛ 63455 3502394Е260 Артикул:3502394Е260 Изготовитель: УРАЛ Цена: 340\n",
            "Деталь: Ось стяжной пружины УРАЛ 3502438Е260 Артикул:3502438Е260 Изготовитель: УРАЛ Цена: 60\n",
            "Деталь: Палец М10х28 339640-П52 Артикул:339640 П52 Изготовитель: УРАЛ Цена: Нет цены\n",
            "Деталь: Прокладка Урал ГТЦ 4320-3505018-01 Артикул:4320-3505018-01 Изготовитель: УРАЛ Цена: 26\n",
            "Деталь: Пружина УРАЛ тормоз.педали 4320-1602119 Артикул:4320-1602119 Изготовитель: УРАЛ Цена: 280\n"
          ]
        }
      ]
    },
    {
      "cell_type": "markdown",
      "source": [
        "# BeautifulSoup"
      ],
      "metadata": {
        "id": "J3O3O0oKMxDv"
      }
    },
    {
      "cell_type": "code",
      "source": [
        "url=\"https://agroteh26.ru/catalog/20-zapchasti_dlya_gruzovoj_tehniki/3-katalog_zapchastej_ural/elektrooborudovanie-fqsdg/\""
      ],
      "metadata": {
        "id": "lsra3DXBMyC3"
      },
      "execution_count": 77,
      "outputs": []
    },
    {
      "cell_type": "code",
      "source": [
        "response = requests.get(url)\n",
        "soup = BeautifulSoup(response.content, 'html.parser')"
      ],
      "metadata": {
        "id": "sSITxUMTMz0S"
      },
      "execution_count": 78,
      "outputs": []
    },
    {
      "cell_type": "code",
      "source": [
        "items = soup.find_all('div', class_='products-list__item')"
      ],
      "metadata": {
        "id": "OGWw7Hs1M21v"
      },
      "execution_count": 79,
      "outputs": []
    },
    {
      "cell_type": "code",
      "source": [
        "for item in items:\n",
        "    title = item.find('div', class_='product-card__name').find('a').text.strip() if item.find('div', class_='product-card__name') else \"Нет названия\"\n",
        "    article = item.find('div', class_='product-card__info').find('span', itemprop='model').text.strip() if item.find('div', class_='product-card__info') else \"Нет артикула\"\n",
        "    manufacturer = item.find('div', class_='product-card__info').find('span', itemprop='brand').text.strip() if item.find('div', class_='product-card__info') else \"Нет производителя\"\n",
        "    price = item.find('div', class_='product-card__prices').find('meta', itemprop='price')['content'] if item.find('div', class_='product-card__prices') and item.find('meta', itemprop='price') else \"Нет цены\"\n",
        "\n",
        "    print(f\"Деталь: {title}, Артикул: {article}, Изготовитель: {manufacturer}, Цена: {price}\")"
      ],
      "metadata": {
        "colab": {
          "base_uri": "https://localhost:8080/"
        },
        "id": "ETFaY6y4M4RO",
        "outputId": "5aac01a1-dcb9-4b0a-92b4-3b65109ac3d0"
      },
      "execution_count": 80,
      "outputs": [
        {
          "output_type": "stream",
          "name": "stdout",
          "text": [
            "Деталь: Барабан тормозной УРАЛ ручника Урал 375-3507050-В, Артикул: 375-3507050-В, Изготовитель: УРАЛ, Цена: 8 800\n",
            "Деталь: Бачок ГТЦ УРАЛ 375-3505082-Б2 в сб., Артикул: 375-3505082-Б2, Изготовитель: УРАЛ, Цена: 1080\n",
            "Деталь: Втулка разжимного кулака УРАЛ 63685  3502396Е260, Артикул: 3502396Е260, Изготовитель: УРАЛ, Цена: 2400\n",
            "Деталь: Болт М10х1,25-6gх20 УРАЛ 201674П29 крепления клапана электромагнитного, Артикул: 201674-П29, Изготовитель: КИТАЙ, Цена: 130\n",
            "Деталь: Главный тормозной цилиндр УРАЛ 4320-3510011 (з.д.)(без бачка), Артикул: 4320-3510011, Изготовитель: УРАЛ, Цена: 10 500\n",
            "Деталь: Главный тормозной цилиндр УРАЛ 5557-3510011( и под АБС)(без бачка), Артикул: 5557-3510011, Изготовитель: УРАЛ, Цена: 13 300\n",
            "Деталь: Клапан перепускной ГТЦ 375-3501048-Б, Артикул: 375-3501048-Б, Изготовитель: УРАЛ, Цена: 94\n",
            "Деталь: Клапан УРАЛ главного тормозного цилиндра 375-3505020, Артикул: 375-3505020, Изготовитель: УРАЛ, Цена: 960\n",
            "Деталь: Колодка тормозная УРАЛ 375-3501090, Артикул: 16375-3501090, Изготовитель: АККОР, Цена: 4000\n",
            "Деталь: Колодка тормозная УРАЛ 55571Х-3501090 (под одинарный цилиндр) Н/О, Артикул: 1655571х-3501090, Изготовитель: АККОР, Цена: 3800\n",
            "Деталь: Кронштейн УРАЛ 375-3508032-10, Артикул: 375-3508032-10, Изготовитель: УРАЛ, Цена: 1290\n",
            "Деталь: Накладка тормозная УРАЛ 375-3501105-Д Н-120 мм, Артикул: 375-3501105-Д, Изготовитель: ТРАНСМАШ, Цена: 700\n",
            "Деталь: Накладка тормозная УРАЛ 63685 задняя/средняя/передняя 3502392А369 Н-180 мм, Артикул: 3502392А369-1, Изготовитель: КИТАЙ, Цена: 570\n",
            "Деталь: Накладка тормозная УРАЛ 63685/ЗУБРЕНОК (4380 з.м. китайск. мост) зад/сред/пер 3502392А369 Н-150 мм, Артикул: 3502392А369, Изготовитель: КИТАЙ, Цена: 770\n",
            "Деталь: Накладка тормозная УРАЛ ручника 4320 375-3507020-В Н-70 мм, Артикул: 375-3507020-03, Изготовитель: КИТАЙ, Цена: 570\n",
            "Деталь: Ось колодки  УРАЛ 63455 3502394Е260, Артикул: 3502394Е260, Изготовитель: УРАЛ, Цена: 340\n",
            "Деталь: Ось стяжной пружины УРАЛ 3502438Е260, Артикул: 3502438Е260, Изготовитель: УРАЛ, Цена: 60\n",
            "Деталь: Палец М10х28 339640-П52, Артикул: 339640 П52, Изготовитель: УРАЛ, Цена: Нет цены\n",
            "Деталь: Прокладка Урал ГТЦ 4320-3505018-01, Артикул: 4320-3505018-01, Изготовитель: УРАЛ, Цена: 26\n",
            "Деталь: Пружина УРАЛ тормоз.педали 4320-1602119, Артикул: 4320-1602119, Изготовитель: УРАЛ, Цена: 280\n"
          ]
        }
      ]
    }
  ]
}